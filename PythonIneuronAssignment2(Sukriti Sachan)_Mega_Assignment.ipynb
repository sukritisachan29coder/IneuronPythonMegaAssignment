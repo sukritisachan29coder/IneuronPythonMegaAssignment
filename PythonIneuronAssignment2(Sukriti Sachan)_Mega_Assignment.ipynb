{
 "cells": [
  {
   "cell_type": "markdown",
   "id": "76a335cb",
   "metadata": {},
   "source": [
    "Q1-Why do we call Python as a general purpose and high-level programming language?\n",
    "\n",
    "Ans-: Python is called a general purpose and high level language as its is highly readable and is almost very close to english language, which means its syntax is quite easy to understand, we can do a bunch of tasks with writing minimal syntax as compared to languages like C++ or JAVA.\n",
    "For ex: If I have to print “Hello World!” in Python, I can simply write\n",
    "\n",
    "print(“Hello World!”)\n",
    "\n",
    "This is very easy to understand even for someone who is not from coding background and we had to write very minimal syntax as compared to above mentioned languages.\n"
   ]
  },
  {
   "cell_type": "markdown",
   "id": "a2d24d7d",
   "metadata": {},
   "source": [
    "Q2:Why is Python called a dynamically typed language?\n",
    "\n",
    "Ans: Python is referred to as dynamically typed language as the compiler itself understands the datatype of a variable for ex: if we are writing a=5, the Python compiler is itself able to make it out that this is an integer type variable.\n",
    "Also we cannot do incompatible types operations in Python for ex: If we are doing \n",
    "print(“I have ”+3+”mangoes”)\n",
    "it will give me an error.\n",
    "\n",
    "It will give an error saying that these 2 data types are not compatible with each other,though we did not define the datatype, but Python compiler is intelligent enough to figure out the difference between the datatypes.\n"
   ]
  },
  {
   "cell_type": "markdown",
   "id": "507cba80",
   "metadata": {},
   "source": [
    "Q3: List some pros and cons of Python programming language?\n",
    "\n",
    "Ans: Pros:\n",
    "A: Python being a dynamically typed language is extremely easy to understand and we need to write minimal syntax for executing our code.\n",
    "\n",
    "B: In Python while declaring variables, we don’t need to give data type,Python is intelligent enough to understand as to what data type the user wants to give.\n",
    "\n",
    "C: Python has some great library support, which not all languages offer.Library is basically a code which is being written by someone else and we as Python users can just import the library into our program by a simple import statement which makes our work easy and smoother.Some examples of libraries are : Pandas,Numpy,TensorFlow\n",
    "\n",
    "D: Python is portable language, it follows WORA(Write Once run Anywhere).\n",
    "\n",
    "Cons:\n",
    "\n",
    "A: Python is a bit slow as compared to other languages such as JAVA, as the code in Python is being interpreted at runtime.\n",
    "\n",
    "B: Python’s memory consumption is quite high as compared to other programming languages.\n"
   ]
  },
  {
   "cell_type": "markdown",
   "id": "ddf50e07",
   "metadata": {},
   "source": [
    "Q4: In what all domains can we use Python?\n",
    "\n",
    "Ans: Python can be used in the following domains.\n",
    "\n",
    "Web Development\n",
    "Data Engineering\n",
    "Data Science\n",
    "AI and Machine Learning\n",
    "Android Development\n"
   ]
  },
  {
   "cell_type": "markdown",
   "id": "90313240",
   "metadata": {},
   "source": [
    "Q5. What are variable and how can we declare them?\n",
    "\n",
    "Variables in Python or any other language are basically containers in which we can assign some values of our choice. In Python we don’t need to pre define data type of a variable because it is dynamically typed.\n",
    "\n",
    "We can declare a variable in Python like:\n",
    "a=50 (This is an integer)\n",
    "str=”Hello” (This is a string)\n",
    "dec=6.78 (This is a float)\n",
    "fin=5 +6j (this is a complex number)\n"
   ]
  },
  {
   "cell_type": "markdown",
   "id": "e5702d11",
   "metadata": {},
   "source": [
    "Q6: How can we take user input in Python?\n",
    "\n",
    "User input in Python is taken via input() method.For ex:\n",
    "\n",
    " a=input(“Enter your name”)\n",
    " no= int(input(“Enter a no:”))\n"
   ]
  },
  {
   "cell_type": "markdown",
   "id": "fdadd079",
   "metadata": {},
   "source": [
    "Q7:What is the default datatype of the value that has been taken as an input using input() function?\n",
    "\n",
    "The default datatype taken as input is string in Python.\n"
   ]
  },
  {
   "cell_type": "code",
   "execution_count": 10,
   "id": "6defb1a8",
   "metadata": {},
   "outputs": [
    {
     "name": "stdout",
     "output_type": "stream",
     "text": [
      "7\n",
      "<class 'str'>\n"
     ]
    }
   ],
   "source": [
    "c=input()\n",
    "print(type(c))  #Part of answer 7"
   ]
  },
  {
   "cell_type": "markdown",
   "id": "11853f34",
   "metadata": {},
   "source": [
    "Q.8) What is type casting?\n",
    "\n",
    "Type casting in Python or any other language simply means casting or changing 1 data type to other.\n",
    "\n",
    "For ex: c=input()\n",
    "\t\tWe give input as 6, the default datatype is string, now if we do\n",
    "d=int(c), now d will be of integer data type\n"
   ]
  },
  {
   "cell_type": "code",
   "execution_count": 12,
   "id": "6e1b77a1",
   "metadata": {},
   "outputs": [
    {
     "name": "stdout",
     "output_type": "stream",
     "text": [
      "5\n",
      "<class 'int'>\n"
     ]
    }
   ],
   "source": [
    "c=input()\n",
    "d=int(c) \n",
    "print(type(d))   #Part of Answer 8"
   ]
  },
  {
   "cell_type": "markdown",
   "id": "a4a71373",
   "metadata": {},
   "source": [
    "\n",
    "Q 9) Can we take more than one input from the user using single input() function? If yes, how? If no, why?\n",
    "\n",
    "Yes, we can give input from one input() function in the following way.\n",
    "\n",
    "\n"
   ]
  },
  {
   "cell_type": "code",
   "execution_count": 14,
   "id": "100e07f9",
   "metadata": {},
   "outputs": [
    {
     "name": "stdout",
     "output_type": "stream",
     "text": [
      "4 5 6\n"
     ]
    }
   ],
   "source": [
    "i,j,k=input().split() #Part of Answer 9"
   ]
  },
  {
   "cell_type": "markdown",
   "id": "49f040dc",
   "metadata": {},
   "source": [
    "Q 10) What are keywords?\n",
    "\n",
    "Keywords are some reserved words in a language, which are used for certain functionalities, for example if we take simplest of all it would be print() keyword or input() keyword which is used for print desired text for user or take user input from user respectively.\n",
    "\n",
    "Some other keywords in Python are:\n",
    "\n",
    "For, while, split, in,finally,import, def, etc\n"
   ]
  },
  {
   "cell_type": "markdown",
   "id": "08095c49",
   "metadata": {},
   "source": [
    "Q 11) Can we use keywords as a variable? Support your answer with reason.\n",
    "\n",
    "No we cannot use keywords as a variable name as if we do that Python compiler gets confused, for ex in below image I try to assign 0 to a variable which I am trying to name for, but it throws me an error as it is thinking I am trying to initialize a loop.\n"
   ]
  },
  {
   "cell_type": "code",
   "execution_count": 15,
   "id": "a817525b",
   "metadata": {},
   "outputs": [
    {
     "ename": "SyntaxError",
     "evalue": "invalid syntax (707004483.py, line 1)",
     "output_type": "error",
     "traceback": [
      "\u001b[1;36m  File \u001b[1;32m\"C:\\Users\\sukri\\AppData\\Local\\Temp\\ipykernel_26996\\707004483.py\"\u001b[1;36m, line \u001b[1;32m1\u001b[0m\n\u001b[1;33m    for=0 #part of answer 11, will throw an error\u001b[0m\n\u001b[1;37m       ^\u001b[0m\n\u001b[1;31mSyntaxError\u001b[0m\u001b[1;31m:\u001b[0m invalid syntax\n"
     ]
    }
   ],
   "source": [
    "for=0 #part of answer 11, will throw an error"
   ]
  },
  {
   "cell_type": "markdown",
   "id": "8f261d84",
   "metadata": {},
   "source": [
    "Q 12) What is indentation? What's the use of indentaion in Python?\n",
    "\n",
    "Indentation in Python basically means that giving spaces after writing loop statements for ex:\n",
    " \n",
    "\n"
   ]
  },
  {
   "cell_type": "code",
   "execution_count": 4,
   "id": "66793b8c",
   "metadata": {},
   "outputs": [
    {
     "name": "stdout",
     "output_type": "stream",
     "text": [
      "15\n",
      "You can vote after  3  years.\n"
     ]
    }
   ],
   "source": [
    "age=int(input())\n",
    "if(age>=18):\n",
    "    print(\"You can vote\")\n",
    "else:\n",
    "    print(\"You can vote after \",18-age,\" years.\")\n"
   ]
  },
  {
   "cell_type": "markdown",
   "id": "2d9b71bc",
   "metadata": {},
   "source": [
    "Q 13) How can we throw some output in Python?\n",
    "\n",
    "We can throw some output in python using print() statement.For ex:\n"
   ]
  },
  {
   "cell_type": "code",
   "execution_count": 16,
   "id": "707c36fb",
   "metadata": {},
   "outputs": [
    {
     "name": "stdout",
     "output_type": "stream",
     "text": [
      "Hi! Let’s start learning data Engineering\n"
     ]
    }
   ],
   "source": [
    "print(\"Hi! Let’s start learning data Engineering\")  #Part of answer 13"
   ]
  },
  {
   "cell_type": "markdown",
   "id": "de716a47",
   "metadata": {},
   "source": [
    "Q 14) What are operators in Python?\n",
    "\n",
    "Operators are used to do calculations or assignment or logical comparison between two or more variables. They are of following types:\n",
    "Arithmetic operator, Logical operator, Bitwise operator, Assignment Operator.\n"
   ]
  },
  {
   "cell_type": "markdown",
   "id": "396dc01e",
   "metadata": {},
   "source": [
    "Q 15) What is difference between / and // operators?\n",
    "\n",
    "Difference between / and // operator:\n",
    "\n",
    "/ gives the output with decimal and // gives only the quotient.\n"
   ]
  },
  {
   "cell_type": "code",
   "execution_count": 5,
   "id": "03cbfca2",
   "metadata": {},
   "outputs": [
    {
     "name": "stdout",
     "output_type": "stream",
     "text": [
      "1.8\n",
      "1\n"
     ]
    }
   ],
   "source": [
    "a=9\n",
    "b=5\n",
    "c=a/b\n",
    "d=a//b\n",
    "print(c)\n",
    "print(d)   #part of answer 15"
   ]
  },
  {
   "cell_type": "markdown",
   "id": "5f4c732e",
   "metadata": {},
   "source": [
    "Q 16) Write a code that gives following as an output.\n",
    "\n",
    "\n"
   ]
  },
  {
   "cell_type": "code",
   "execution_count": 6,
   "id": "26f59b78",
   "metadata": {},
   "outputs": [
    {
     "name": "stdout",
     "output_type": "stream",
     "text": [
      "iNeuroniNeuroniNeuron\n"
     ]
    }
   ],
   "source": [
    "print(\"iNeuroniNeuroniNeuron\")    #Part of answer 16"
   ]
  },
  {
   "cell_type": "code",
   "execution_count": 7,
   "id": "49cb799c",
   "metadata": {},
   "outputs": [
    {
     "name": "stdout",
     "output_type": "stream",
     "text": [
      "Enter a number 6\n",
      "Even\n"
     ]
    }
   ],
   "source": [
    "#Q 17) Write a code to take a number as an input from the user and check if the number is odd or even.\n",
    "\n",
    "number=int(input(\"Enter a number \"))\n",
    "if(number%2==0):\n",
    "    print(\"Even\")\n",
    "else:\n",
    "    print(\"odd\")\n"
   ]
  },
  {
   "cell_type": "markdown",
   "id": "25b5519f",
   "metadata": {},
   "source": [
    "Q 18) What are boolean operators?\n",
    "\n",
    "Boolean operators gives result in true and false for, this is used when we want to know if an expression written is correct or not.\n",
    "For ex: \n",
    "\n",
    "If we use bool operator everything would result in true else than 0, for ex:\n"
   ]
  },
  {
   "cell_type": "code",
   "execution_count": 8,
   "id": "df243aa9",
   "metadata": {},
   "outputs": [
    {
     "name": "stdout",
     "output_type": "stream",
     "text": [
      "True\n",
      "False\n",
      "True\n",
      "True\n",
      "False\n"
     ]
    }
   ],
   "source": [
    "print(bool(1))\n",
    "print(bool(0))\n",
    "print(bool(-1))\n",
    "print(bool(\"Sukriti\"))\n",
    "print(bool(False))   #Part of Answer 18"
   ]
  },
  {
   "cell_type": "markdown",
   "id": "40316360",
   "metadata": {},
   "source": [
    "Q 19) \n",
    "\n",
    "What will the output of the following?\n",
    "```\n",
    "1 or 0\n",
    "\n",
    "\n",
    "0 and 0\n",
    "\n",
    "\n",
    "True and False and True\n",
    "\n",
    "\n",
    "1 or 0 or 0\n",
    "\n",
    "1 or 0: 1\n",
    "\n",
    "0 and 0: 0\n",
    "\n",
    "True and False and True: False\n",
    "\n",
    "1 or 0 or 0:1\n"
   ]
  },
  {
   "cell_type": "markdown",
   "id": "51bc6d9a",
   "metadata": {},
   "source": [
    "Q 20) What are conditional statements in Python?\n",
    "\n",
    "Conditional operators are basically if and else operators which are used when we want output based on certain conditions. For ex: Lets say 60% is passing percentage in any entrance exam, so we can evaluate it by following\n",
    "\n"
   ]
  },
  {
   "cell_type": "code",
   "execution_count": 9,
   "id": "36454104",
   "metadata": {},
   "outputs": [
    {
     "name": "stdout",
     "output_type": "stream",
     "text": [
      "Enter a score: 78\n",
      "Pass\n"
     ]
    }
   ],
   "source": [
    "score=int(input(\"Enter a score: \"))\n",
    "if(score>=60):\n",
    "\tprint(\"Pass\")\n",
    "else:\n",
    "\tprint(\"fail\")\n"
   ]
  },
  {
   "cell_type": "markdown",
   "id": "ab614efd",
   "metadata": {},
   "source": [
    "Q 21) What is use of 'if', 'elif' and 'else' keywords?\n",
    "These are used when we need to check more than two conditions in our program. For ex:\n"
   ]
  },
  {
   "cell_type": "code",
   "execution_count": 17,
   "id": "edeb741c",
   "metadata": {},
   "outputs": [
    {
     "name": "stdout",
     "output_type": "stream",
     "text": [
      "Enter your salary 700000\n",
      "Tax=  70000.0\n"
     ]
    }
   ],
   "source": [
    "salary=int(input(\"Enter your salary \"))\n",
    "if(salary<=500000):\n",
    "    print(\"No tax\")\n",
    "elif(salary>=500001 and salary<=800000):\n",
    "    print(\"Tax= \",0.1*salary)\n",
    "elif(salary>=800001 and salary<=1200000):\n",
    "    print(\"Tax= \",0.15*salary)\n",
    "else:\n",
    "    print(\"Tax= \",0.18*salary)  #Part of answer 21"
   ]
  },
  {
   "cell_type": "markdown",
   "id": "12aafcdc",
   "metadata": {},
   "source": [
    "Q 22) Write a code to take the age of person as an input and if age >= 18 display \"I can vote\". If age is < 18 display \"I can't vote\"."
   ]
  },
  {
   "cell_type": "code",
   "execution_count": 18,
   "id": "fa3eff30",
   "metadata": {},
   "outputs": [
    {
     "name": "stdout",
     "output_type": "stream",
     "text": [
      "19\n",
      "I can vote\n"
     ]
    }
   ],
   "source": [
    "age=int(input())\n",
    "if(age>=18):\n",
    "    print(\"I can vote\")\n",
    "else:\n",
    "    print(\"I can't vote.\")"
   ]
  },
  {
   "cell_type": "markdown",
   "id": "48b568f4",
   "metadata": {},
   "source": [
    "Q 23) Write a code that displays the sum of all the even numbers from the given list.\n",
    "numbers = [12, 75, 150, 180, 145, 525, 50]"
   ]
  },
  {
   "cell_type": "code",
   "execution_count": 19,
   "id": "82dd6406",
   "metadata": {},
   "outputs": [
    {
     "name": "stdout",
     "output_type": "stream",
     "text": [
      "392\n"
     ]
    }
   ],
   "source": [
    "numbers = [12, 75, 150, 180, 145, 525, 50]\n",
    "sum=0\n",
    "for i in numbers:\n",
    "    if(i%2==0):\n",
    "        sum=sum+i\n",
    "print(sum)"
   ]
  },
  {
   "cell_type": "markdown",
   "id": "ae9770e6",
   "metadata": {},
   "source": [
    "Q 24) Write a code to take 3 numbers as an input from the user and display the greatest no as output.\n"
   ]
  },
  {
   "cell_type": "code",
   "execution_count": 20,
   "id": "9108e977",
   "metadata": {},
   "outputs": [
    {
     "name": "stdout",
     "output_type": "stream",
     "text": [
      "67\n",
      "98\n",
      "23\n",
      "98  is greatest.\n"
     ]
    }
   ],
   "source": [
    "f=int(input())\n",
    "s=int(input())\n",
    "t=int(input())\n",
    "if(f>s and f>t):\n",
    "    print(f,\" is greatest.\")\n",
    "elif(s>t):\n",
    "    print(s,\" is greatest.\")\n",
    "else:\n",
    "    print(t,\" is greatest.\")"
   ]
  },
  {
   "cell_type": "markdown",
   "id": "82b3c4de",
   "metadata": {},
   "source": [
    "Q25. Write a program to display only those numbers from a list that satisfy the following conditions\n",
    "\n",
    "- The number must be divisible by five\n",
    "\n",
    "- If the number is greater than 150, then skip it and move to the next number\n",
    "\n",
    "- If the number is greater than 500, then stop the loop\n",
    "```\n",
    "numbers = [12, 75, 150, 180, 145, 525, 50]"
   ]
  },
  {
   "cell_type": "code",
   "execution_count": 21,
   "id": "72629a3f",
   "metadata": {},
   "outputs": [
    {
     "name": "stdout",
     "output_type": "stream",
     "text": [
      "[75, 150, 145, 50]\n"
     ]
    }
   ],
   "source": [
    "numbers = [12, 75, 150, 180, 145, 525, 50]\n",
    "list1=[]\n",
    "for i in numbers:\n",
    "    if(i%5==0):\n",
    "        if(i>150):\n",
    "            continue\n",
    "        if(i>500):\n",
    "            break\n",
    "        else:\n",
    "            list1.append(i)\n",
    "    else:\n",
    "        continue\n",
    "        \n",
    "print(list1)"
   ]
  },
  {
   "cell_type": "markdown",
   "id": "d72ec790",
   "metadata": {},
   "source": [
    "Q26. What is a string? How can we declare string in Python?\n",
    "\n",
    "String is like any other data type in Python, where we can store single or multiple characters, words or sentences and also alphanumeric values, for ex:"
   ]
  },
  {
   "cell_type": "code",
   "execution_count": 1,
   "id": "848fb154",
   "metadata": {},
   "outputs": [
    {
     "name": "stdout",
     "output_type": "stream",
     "text": [
      "Hello\n",
      "Sukriti Sachan\n",
      "EMP2676\n",
      "67\n"
     ]
    }
   ],
   "source": [
    "#Ans 26\n",
    "str1=\"Hello\"\n",
    "name=\"Sukriti Sachan\"\n",
    "EmpId=\"EMP2676\"\n",
    "UId=\"67\"\n",
    "print(str1)\n",
    "print(name)\n",
    "print(EmpId)\n",
    "print(UId)"
   ]
  },
  {
   "cell_type": "markdown",
   "id": "d9f9c1aa",
   "metadata": {},
   "source": [
    "Q 27. How can we access the string using its index?\n",
    "\n",
    "<!-- #Ans 28 -->\n",
    "\n",
    "We can access string using its index by [] method, for ex:"
   ]
  },
  {
   "cell_type": "code",
   "execution_count": 2,
   "id": "d3612c42",
   "metadata": {},
   "outputs": [
    {
     "name": "stdout",
     "output_type": "stream",
     "text": [
      "r\n"
     ]
    }
   ],
   "source": [
    "name=\"Sukriti Sachan\"\n",
    "print(name[3])  #This will give r as output as indexing starts from 0 "
   ]
  },
  {
   "cell_type": "markdown",
   "id": "17ad5dad",
   "metadata": {},
   "source": [
    "Q28. Write a code to get the desired output of the following\n",
    "string = \"Big Data iNeuron\"\n",
    "desired_output = \"iNeuron\""
   ]
  },
  {
   "cell_type": "code",
   "execution_count": 17,
   "id": "5a1ebd2e",
   "metadata": {},
   "outputs": [
    {
     "name": "stdout",
     "output_type": "stream",
     "text": [
      "iNeuron\n"
     ]
    }
   ],
   "source": [
    "string = \"Big Data iNeuron\"\n",
    "out = \"\"\n",
    "for i in reversed(string):\n",
    "    if i == \" \":\n",
    "        break\n",
    "    out = i + out\n",
    "desired_output = out\n",
    "print(desired_output)"
   ]
  },
  {
   "cell_type": "markdown",
   "id": "2ba3379d",
   "metadata": {},
   "source": [
    "Q29. Write a code to get the desired output of the following\n",
    "string = \"Big Data iNeuron\"\n",
    "desired_output = \"norueNi\""
   ]
  },
  {
   "cell_type": "code",
   "execution_count": 22,
   "id": "be6a0f65",
   "metadata": {},
   "outputs": [
    {
     "name": "stdout",
     "output_type": "stream",
     "text": [
      "norueNi\n"
     ]
    }
   ],
   "source": [
    "string = \"Big Data iNeuron\"\n",
    "out = \"\"\n",
    "for i in reversed(string):\n",
    "    if i == \" \":\n",
    "        break\n",
    "    out = i + out\n",
    "desired_output = out\n",
    "print(out[::-1])"
   ]
  },
  {
   "cell_type": "markdown",
   "id": "8ef77459",
   "metadata": {},
   "source": [
    "Q30. Resverse the string given in the above question.\n",
    "string = \"Big Data iNeuron\""
   ]
  },
  {
   "cell_type": "code",
   "execution_count": 25,
   "id": "4f75c3a5",
   "metadata": {},
   "outputs": [
    {
     "name": "stdout",
     "output_type": "stream",
     "text": [
      "norueNi ataD giB\n"
     ]
    }
   ],
   "source": [
    "\n",
    "print(string[::-1])"
   ]
  },
  {
   "cell_type": "markdown",
   "id": "4b6beef2",
   "metadata": {},
   "source": [
    "Q31. How can you delete entire string at once?\n",
    "We can do so by using del function"
   ]
  },
  {
   "cell_type": "code",
   "execution_count": 26,
   "id": "98adc9d0",
   "metadata": {},
   "outputs": [
    {
     "ename": "NameError",
     "evalue": "name 'string' is not defined",
     "output_type": "error",
     "traceback": [
      "\u001b[1;31m---------------------------------------------------------------------------\u001b[0m",
      "\u001b[1;31mNameError\u001b[0m                                 Traceback (most recent call last)",
      "\u001b[1;32m~\\AppData\\Local\\Temp\\ipykernel_8428\\2138762689.py\u001b[0m in \u001b[0;36m<module>\u001b[1;34m\u001b[0m\n\u001b[0;32m      1\u001b[0m \u001b[0mstring\u001b[0m\u001b[1;33m=\u001b[0m\u001b[1;34m\"Sukriti Sachan\"\u001b[0m\u001b[1;33m\u001b[0m\u001b[1;33m\u001b[0m\u001b[0m\n\u001b[0;32m      2\u001b[0m \u001b[1;32mdel\u001b[0m\u001b[1;33m(\u001b[0m\u001b[0mstring\u001b[0m\u001b[1;33m)\u001b[0m\u001b[1;33m\u001b[0m\u001b[1;33m\u001b[0m\u001b[0m\n\u001b[1;32m----> 3\u001b[1;33m \u001b[0mprint\u001b[0m\u001b[1;33m(\u001b[0m\u001b[0mstring\u001b[0m\u001b[1;33m)\u001b[0m\u001b[1;33m\u001b[0m\u001b[1;33m\u001b[0m\u001b[0m\n\u001b[0m",
      "\u001b[1;31mNameError\u001b[0m: name 'string' is not defined"
     ]
    }
   ],
   "source": [
    "string=\"Sukriti Sachan\"\n",
    "del(string)\n",
    "print(string)"
   ]
  },
  {
   "cell_type": "markdown",
   "id": "e3cc000e",
   "metadata": {},
   "source": [
    "Q32. What is escape sequence?\n",
    "They are used to handle special edge cases in pyton,fo ex:"
   ]
  },
  {
   "cell_type": "code",
   "execution_count": 30,
   "id": "fb015f1f",
   "metadata": {},
   "outputs": [
    {
     "name": "stdout",
     "output_type": "stream",
     "text": [
      "It's my name\n",
      "Hello \n",
      " world\n",
      "It's \t Python\n"
     ]
    }
   ],
   "source": [
    "string1='It\\'s my name'\n",
    "print(string1)\n",
    "print(\"Hello \\n world\")\n",
    "print(\"It\\'s \\t Python\")\n"
   ]
  },
  {
   "cell_type": "markdown",
   "id": "51d4425d",
   "metadata": {},
   "source": [
    "Q33. How can you print the below string?\n",
    "'iNeuron's Big Data Course'"
   ]
  },
  {
   "cell_type": "code",
   "execution_count": 31,
   "id": "e424b903",
   "metadata": {},
   "outputs": [
    {
     "name": "stdout",
     "output_type": "stream",
     "text": [
      "iNeuron's Big Data Course\n"
     ]
    }
   ],
   "source": [
    "print('iNeuron\\'s Big Data Course')"
   ]
  },
  {
   "cell_type": "markdown",
   "id": "56cd2b53",
   "metadata": {},
   "source": [
    "Q34. What is a list in Python"
   ]
  },
  {
   "cell_type": "markdown",
   "id": "28f4dcb5",
   "metadata": {},
   "source": [
    "List is a data type in Python where we can store multiple elements of homogenous or heterogenous data types, for ex: "
   ]
  },
  {
   "cell_type": "code",
   "execution_count": 33,
   "id": "25eb5c43",
   "metadata": {},
   "outputs": [
    {
     "name": "stdout",
     "output_type": "stream",
     "text": [
      "[2, 'Lion', 'W2', 6.78]\n"
     ]
    }
   ],
   "source": [
    "list1=[2,\"Lion\",\"W2\",6.78]\n",
    "print(list1)"
   ]
  },
  {
   "cell_type": "markdown",
   "id": "960a6cc8",
   "metadata": {},
   "source": [
    "Q35. How can you create a list in Python?"
   ]
  },
  {
   "cell_type": "code",
   "execution_count": 34,
   "id": "832e34d8",
   "metadata": {},
   "outputs": [
    {
     "name": "stdout",
     "output_type": "stream",
     "text": [
      "[2, 'Lion', 'W2', 6.78]\n"
     ]
    }
   ],
   "source": [
    "list1=[2,\"Lion\",\"W2\",6.78]\n",
    "print(list1)"
   ]
  },
  {
   "cell_type": "markdown",
   "id": "c3a1d56c",
   "metadata": {},
   "source": [
    "Q36. How can we access the elements in a list?\n",
    "\n",
    "We can access elements in a list by using [] brackets, and passing index inside these brackets for ex:"
   ]
  },
  {
   "cell_type": "code",
   "execution_count": 36,
   "id": "2f1798e4",
   "metadata": {},
   "outputs": [
    {
     "name": "stdout",
     "output_type": "stream",
     "text": [
      "W2\n",
      "Lion\n"
     ]
    }
   ],
   "source": [
    "list1=[2,\"Lion\",\"W2\",6.78]\n",
    "print(list1[2])\n",
    "print(list1[1])"
   ]
  },
  {
   "cell_type": "markdown",
   "id": "6a4ee13b",
   "metadata": {},
   "source": [
    "Q37. Write a code to access the word \"iNeuron\" from the given list.\n",
    "\n",
    "lst = [1,2,3,\"Hi\",[45,54, \"iNeuron\"], \"Big Data\"]"
   ]
  },
  {
   "cell_type": "code",
   "execution_count": 39,
   "id": "346f6eea",
   "metadata": {},
   "outputs": [
    {
     "name": "stdout",
     "output_type": "stream",
     "text": [
      "iNeuron\n"
     ]
    }
   ],
   "source": [
    "lst = [1,2,3,\"Hi\",[45,54, \"iNeuron\"], \"Big Data\"]\n",
    "sub_lst=lst[4]\n",
    "for i in sub_lst:\n",
    "    if(i==\"iNeuron\"):\n",
    "        print(i)"
   ]
  },
  {
   "cell_type": "markdown",
   "id": "7ea843f3",
   "metadata": {},
   "source": [
    "Q38. Take a list as an input from the user and find the length of the list."
   ]
  },
  {
   "cell_type": "code",
   "execution_count": null,
   "id": "3aa4f155",
   "metadata": {},
   "outputs": [],
   "source": [
    "string = input(\"Enter values separated by comma \")\n",
    "lst  = string.split(\",\")\n",
    "print(len(lst))"
   ]
  },
  {
   "cell_type": "markdown",
   "id": "fc21bd0f",
   "metadata": {},
   "source": [
    "Q39. Add the word \"Big\" in the 3rd index of the given list.\n",
    "\n",
    "lst = [\"Welcome\", \"to\", \"Data\", \"course\"]"
   ]
  },
  {
   "cell_type": "code",
   "execution_count": 56,
   "id": "45fbcae8",
   "metadata": {},
   "outputs": [
    {
     "name": "stdout",
     "output_type": "stream",
     "text": [
      "['Welcome', 'to', 'Big', 'Data', 'course']\n"
     ]
    }
   ],
   "source": [
    "lst = [\"Welcome\", \"to\", \"Data\", \"course\"]\n",
    "lst.insert(2,\"Big\")\n",
    "print(lst)"
   ]
  },
  {
   "cell_type": "markdown",
   "id": "a94adba2",
   "metadata": {},
   "source": [
    "Q40. What is a tuple? How is it different from list?\n",
    "\n",
    "Tuple is another data type in Python in which both hoomogenous and heterogenous values can be stored, the difference between tuple and list is tuples are stored in () paranthesis while list is stored in [] brackets another major diference is yhat lists are mutable that means we can remove insert change values in a list but not in tuple."
   ]
  },
  {
   "cell_type": "code",
   "execution_count": 58,
   "id": "8d3bbc0e",
   "metadata": {},
   "outputs": [
    {
     "name": "stdout",
     "output_type": "stream",
     "text": [
      "[2, 'Sukriti', 'AE']\n"
     ]
    }
   ],
   "source": [
    "lst=[2,\"Sukriti\"]\n",
    "tpl=(2,\"Sukriti\")\n",
    "lst.insert(2,\"AE\")\n",
    "print(lst)"
   ]
  },
  {
   "cell_type": "code",
   "execution_count": 59,
   "id": "b3faf2f6",
   "metadata": {},
   "outputs": [
    {
     "ename": "AttributeError",
     "evalue": "'tuple' object has no attribute 'insert'",
     "output_type": "error",
     "traceback": [
      "\u001b[1;31m---------------------------------------------------------------------------\u001b[0m",
      "\u001b[1;31mAttributeError\u001b[0m                            Traceback (most recent call last)",
      "\u001b[1;32m~\\AppData\\Local\\Temp\\ipykernel_8428\\3447101808.py\u001b[0m in \u001b[0;36m<module>\u001b[1;34m\u001b[0m\n\u001b[1;32m----> 1\u001b[1;33m \u001b[0mtpl\u001b[0m\u001b[1;33m.\u001b[0m\u001b[0minsert\u001b[0m\u001b[1;33m(\u001b[0m\u001b[1;36m2\u001b[0m\u001b[1;33m,\u001b[0m\u001b[1;34m\"AE\"\u001b[0m\u001b[1;33m)\u001b[0m\u001b[1;33m\u001b[0m\u001b[1;33m\u001b[0m\u001b[0m\n\u001b[0m\u001b[0;32m      2\u001b[0m \u001b[0mprint\u001b[0m\u001b[1;33m(\u001b[0m\u001b[0mtpl\u001b[0m\u001b[1;33m)\u001b[0m\u001b[1;33m\u001b[0m\u001b[1;33m\u001b[0m\u001b[0m\n",
      "\u001b[1;31mAttributeError\u001b[0m: 'tuple' object has no attribute 'insert'"
     ]
    }
   ],
   "source": [
    "tpl.insert(2,\"AE\")\n",
    "print(tpl)"
   ]
  },
  {
   "cell_type": "markdown",
   "id": "e94d44fd",
   "metadata": {},
   "source": [
    "Q41. How can you create a tuple in Python?\n",
    "\n"
   ]
  },
  {
   "cell_type": "code",
   "execution_count": 60,
   "id": "576e7b89",
   "metadata": {},
   "outputs": [
    {
     "name": "stdout",
     "output_type": "stream",
     "text": [
      "(2, 'Sukriti', 1, 6.9)\n"
     ]
    }
   ],
   "source": [
    "tpl=(2,\"Sukriti\",1,6.9)\n",
    "print(tpl)"
   ]
  },
  {
   "cell_type": "markdown",
   "id": "8a917585",
   "metadata": {},
   "source": [
    "Q42. Create a tuple and try to add your name in the tuple. Are you able to do it? Support your answer with reason.\n",
    "\n",
    "No we cannot insert or amend values in a tuple as tuples in python are by design immutable for ex:"
   ]
  },
  {
   "cell_type": "code",
   "execution_count": 61,
   "id": "790e25e3",
   "metadata": {},
   "outputs": [
    {
     "ename": "AttributeError",
     "evalue": "'tuple' object has no attribute 'insert'",
     "output_type": "error",
     "traceback": [
      "\u001b[1;31m---------------------------------------------------------------------------\u001b[0m",
      "\u001b[1;31mAttributeError\u001b[0m                            Traceback (most recent call last)",
      "\u001b[1;32m~\\AppData\\Local\\Temp\\ipykernel_8428\\3447101808.py\u001b[0m in \u001b[0;36m<module>\u001b[1;34m\u001b[0m\n\u001b[1;32m----> 1\u001b[1;33m \u001b[0mtpl\u001b[0m\u001b[1;33m.\u001b[0m\u001b[0minsert\u001b[0m\u001b[1;33m(\u001b[0m\u001b[1;36m2\u001b[0m\u001b[1;33m,\u001b[0m\u001b[1;34m\"AE\"\u001b[0m\u001b[1;33m)\u001b[0m\u001b[1;33m\u001b[0m\u001b[1;33m\u001b[0m\u001b[0m\n\u001b[0m\u001b[0;32m      2\u001b[0m \u001b[0mprint\u001b[0m\u001b[1;33m(\u001b[0m\u001b[0mtpl\u001b[0m\u001b[1;33m)\u001b[0m\u001b[1;33m\u001b[0m\u001b[1;33m\u001b[0m\u001b[0m\n",
      "\u001b[1;31mAttributeError\u001b[0m: 'tuple' object has no attribute 'insert'"
     ]
    }
   ],
   "source": [
    "tpl.insert(2,\"AE\")\n",
    "print(tpl)"
   ]
  },
  {
   "cell_type": "markdown",
   "id": "0f8d7127",
   "metadata": {},
   "source": [
    "Q43. Can two tuple be appended. If yes, write a code for it. If not, why?\n",
    "\n",
    "Yes 2 tuples can be appended by '+' operator."
   ]
  },
  {
   "cell_type": "code",
   "execution_count": 63,
   "id": "b0d43540",
   "metadata": {},
   "outputs": [
    {
     "name": "stdout",
     "output_type": "stream",
     "text": [
      "(2, 'Sukriti', 3, 'Tushar')\n"
     ]
    }
   ],
   "source": [
    "tpl1=(2,\"Sukriti\")\n",
    "tpl2=(3,\"Tushar\")\n",
    "tpl3=tpl1+tpl2\n",
    "print(tpl3)"
   ]
  },
  {
   "cell_type": "markdown",
   "id": "f7f0133b",
   "metadata": {},
   "source": [
    "Q44. Take a tuple as an input and print the count of elements in it."
   ]
  },
  {
   "cell_type": "markdown",
   "id": "9f5a4e44",
   "metadata": {},
   "source": [
    "Q45. What are sets in Python?\n",
    "\n",
    "Sets in Python are data types which contains unique values, which means the value scan be of homogenous or heterogenous but they would unique."
   ]
  },
  {
   "cell_type": "code",
   "execution_count": 64,
   "id": "974b23d4",
   "metadata": {},
   "outputs": [
    {
     "name": "stdout",
     "output_type": "stream",
     "text": [
      "{'Surkiti', 2, 'e', 'AE'}\n"
     ]
    }
   ],
   "source": [
    "set1={1,\"Tushar\",\"E\",\"e\",\"E\"}\n",
    "set2={2,\"Surkiti\",\"AE\",\"e\"}\n",
    "print(set2)"
   ]
  },
  {
   "cell_type": "code",
   "execution_count": 65,
   "id": "693d57fa",
   "metadata": {},
   "outputs": [
    {
     "name": "stdout",
     "output_type": "stream",
     "text": [
      "{'E', 1, 'e', 'Tushar'}\n"
     ]
    }
   ],
   "source": [
    "print(set1)"
   ]
  },
  {
   "cell_type": "markdown",
   "id": "dd504d60",
   "metadata": {},
   "source": [
    "As we can see while printing set 1 it removed the extra \"E\""
   ]
  },
  {
   "cell_type": "markdown",
   "id": "5a82b387",
   "metadata": {},
   "source": [
    "Q46. How can you create a set?"
   ]
  },
  {
   "cell_type": "code",
   "execution_count": 66,
   "id": "982b67ac",
   "metadata": {},
   "outputs": [
    {
     "name": "stdout",
     "output_type": "stream",
     "text": [
      "{'E', 1, 'e', 'Tushar'}\n"
     ]
    }
   ],
   "source": [
    "set1={1,\"Tushar\",\"E\",\"e\",\"E\"}\n",
    "print(set1)"
   ]
  },
  {
   "cell_type": "markdown",
   "id": "8749c948",
   "metadata": {},
   "source": [
    "Q47. Create a set and add \"iNeuron\" in your set."
   ]
  },
  {
   "cell_type": "code",
   "execution_count": 71,
   "id": "cbb07ad4",
   "metadata": {},
   "outputs": [
    {
     "name": "stdout",
     "output_type": "stream",
     "text": [
      "{'iNeuron', 3, 'Sukriti', 'DE'}\n"
     ]
    }
   ],
   "source": [
    "set1={3,\"Sukriti\",\"DE\"}\n",
    "set1.add(\"iNeuron\")\n",
    "print(set1)"
   ]
  },
  {
   "cell_type": "markdown",
   "id": "031e5576",
   "metadata": {},
   "source": [
    "Q48. Try to add multiple values using add() function.\n",
    "\n",
    "It wont be successful, only 1 item can be added via add function"
   ]
  },
  {
   "cell_type": "code",
   "execution_count": 69,
   "id": "93872011",
   "metadata": {},
   "outputs": [
    {
     "ename": "TypeError",
     "evalue": "set.add() takes exactly one argument (3 given)",
     "output_type": "error",
     "traceback": [
      "\u001b[1;31m---------------------------------------------------------------------------\u001b[0m",
      "\u001b[1;31mTypeError\u001b[0m                                 Traceback (most recent call last)",
      "\u001b[1;32m~\\AppData\\Local\\Temp\\ipykernel_8428\\1536154766.py\u001b[0m in \u001b[0;36m<module>\u001b[1;34m\u001b[0m\n\u001b[0;32m      1\u001b[0m \u001b[0mset1\u001b[0m\u001b[1;33m=\u001b[0m\u001b[1;33m{\u001b[0m\u001b[1;36m3\u001b[0m\u001b[1;33m,\u001b[0m\u001b[1;34m\"Sukriti\"\u001b[0m\u001b[1;33m,\u001b[0m\u001b[1;34m\"DE\"\u001b[0m\u001b[1;33m}\u001b[0m\u001b[1;33m\u001b[0m\u001b[1;33m\u001b[0m\u001b[0m\n\u001b[1;32m----> 2\u001b[1;33m \u001b[0mset1\u001b[0m\u001b[1;33m.\u001b[0m\u001b[0madd\u001b[0m\u001b[1;33m(\u001b[0m\u001b[1;34m\"iNeuron\"\u001b[0m\u001b[1;33m,\u001b[0m\u001b[1;34m\"batch2\"\u001b[0m\u001b[1;33m,\u001b[0m\u001b[1;34m\"April\"\u001b[0m\u001b[1;33m)\u001b[0m\u001b[1;33m\u001b[0m\u001b[1;33m\u001b[0m\u001b[0m\n\u001b[0m\u001b[0;32m      3\u001b[0m \u001b[0mprint\u001b[0m\u001b[1;33m(\u001b[0m\u001b[0mset1\u001b[0m\u001b[1;33m)\u001b[0m\u001b[1;33m\u001b[0m\u001b[1;33m\u001b[0m\u001b[0m\n",
      "\u001b[1;31mTypeError\u001b[0m: set.add() takes exactly one argument (3 given)"
     ]
    }
   ],
   "source": [
    "set1={3,\"Sukriti\",\"DE\"}\n",
    "set1.add(\"iNeuron\",\"batch2\",\"April\")\n",
    "print(set1)"
   ]
  },
  {
   "cell_type": "markdown",
   "id": "46cef42f",
   "metadata": {},
   "source": [
    "Q49. How is update() different from add()?\n",
    "\n",
    "update(): It is used to concat two sets\n",
    "add(): this is used to add new items to an existing set"
   ]
  },
  {
   "cell_type": "code",
   "execution_count": 74,
   "id": "d0f16117",
   "metadata": {},
   "outputs": [
    {
     "name": "stdout",
     "output_type": "stream",
     "text": [
      "{'iNeuron', 2, 3, 'Harsh', 'DS', 'DE', 'Sukriti'}\n"
     ]
    }
   ],
   "source": [
    "set1={'iNeuron', 3, 'Sukriti', 'DE'}\n",
    "set2={'iNeuron', 2, 'Harsh', 'DS'}\n",
    "set1.update(set2)\n",
    "print(set1)"
   ]
  },
  {
   "cell_type": "markdown",
   "id": "62f0302d",
   "metadata": {},
   "source": [
    "Q50. What is clear() in sets?\n",
    "\n",
    "Clear is used to remove all elements from the set."
   ]
  },
  {
   "cell_type": "code",
   "execution_count": 78,
   "id": "eafc56a9",
   "metadata": {},
   "outputs": [
    {
     "name": "stdout",
     "output_type": "stream",
     "text": [
      "set()\n"
     ]
    }
   ],
   "source": [
    "set1={'iNeuron', 3, 'Sukriti', 'DE'}\n",
    "set1.clear()\n",
    "print(set1)"
   ]
  },
  {
   "cell_type": "markdown",
   "id": "823569b3",
   "metadata": {},
   "source": [
    "Q51. What is frozen set?\n",
    "\n",
    "Frozen set is a type of built in Python functionality where the items of the set will be come immutable, for ex:"
   ]
  },
  {
   "cell_type": "code",
   "execution_count": 83,
   "id": "9188d71e",
   "metadata": {},
   "outputs": [
    {
     "ename": "TypeError",
     "evalue": "'frozenset' object does not support item assignment",
     "output_type": "error",
     "traceback": [
      "\u001b[1;31m---------------------------------------------------------------------------\u001b[0m",
      "\u001b[1;31mTypeError\u001b[0m                                 Traceback (most recent call last)",
      "\u001b[1;32m~\\AppData\\Local\\Temp\\ipykernel_8428\\2901720864.py\u001b[0m in \u001b[0;36m<module>\u001b[1;34m\u001b[0m\n\u001b[0;32m      1\u001b[0m \u001b[0mlst2\u001b[0m\u001b[1;33m=\u001b[0m\u001b[1;33m[\u001b[0m\u001b[1;34m'iNeuron'\u001b[0m\u001b[1;33m,\u001b[0m \u001b[1;36m2\u001b[0m\u001b[1;33m,\u001b[0m \u001b[1;34m'Harsh'\u001b[0m\u001b[1;33m,\u001b[0m \u001b[1;34m'DS'\u001b[0m\u001b[1;33m]\u001b[0m\u001b[1;33m\u001b[0m\u001b[1;33m\u001b[0m\u001b[0m\n\u001b[0;32m      2\u001b[0m \u001b[0mset3\u001b[0m\u001b[1;33m=\u001b[0m\u001b[0mfrozenset\u001b[0m\u001b[1;33m(\u001b[0m\u001b[0mlst2\u001b[0m\u001b[1;33m)\u001b[0m\u001b[1;33m\u001b[0m\u001b[1;33m\u001b[0m\u001b[0m\n\u001b[1;32m----> 3\u001b[1;33m \u001b[0mset3\u001b[0m\u001b[1;33m[\u001b[0m\u001b[1;36m2\u001b[0m\u001b[1;33m]\u001b[0m\u001b[1;33m=\u001b[0m\u001b[1;36m5\u001b[0m\u001b[1;33m\u001b[0m\u001b[1;33m\u001b[0m\u001b[0m\n\u001b[0m\u001b[0;32m      4\u001b[0m \u001b[1;33m\u001b[0m\u001b[0m\n\u001b[0;32m      5\u001b[0m \u001b[0mprint\u001b[0m\u001b[1;33m(\u001b[0m\u001b[0mset1\u001b[0m\u001b[1;33m)\u001b[0m\u001b[1;33m\u001b[0m\u001b[1;33m\u001b[0m\u001b[0m\n",
      "\u001b[1;31mTypeError\u001b[0m: 'frozenset' object does not support item assignment"
     ]
    }
   ],
   "source": [
    "\n",
    "lst2=['iNeuron', 2, 'Harsh', 'DS']\n",
    "set3=frozenset(lst2)\n",
    "set3[2]=5\n",
    "\n",
    "print(set1)\n",
    "print(set3)"
   ]
  },
  {
   "cell_type": "markdown",
   "id": "5a71a369",
   "metadata": {},
   "source": [
    "Q52. How is frozen set different from set?\n",
    "\n",
    "Sets and frozensets both are collection of unordered elements but in a set we can add and remove values meanwhile in frozenset we cannot add or remove values as it is fixed, the difference between frozenset and tuples would be that tuples can contain duplicate values but frozenset cannot."
   ]
  },
  {
   "cell_type": "markdown",
   "id": "513b75e3",
   "metadata": {},
   "source": [
    "Q53. What is union() in sets? Explain via code."
   ]
  },
  {
   "cell_type": "code",
   "execution_count": 84,
   "id": "4342372c",
   "metadata": {},
   "outputs": [
    {
     "name": "stdout",
     "output_type": "stream",
     "text": [
      "{'iNeuron', 2, 3, 'Harsh', 'DS', 'DE', 'Sukriti'}\n"
     ]
    }
   ],
   "source": [
    "set1={'iNeuron', 3, 'Sukriti', 'DE'}\n",
    "set2={'iNeuron', 2, 'Harsh', 'DS'}\n",
    "set3=set1.union(set2)\n",
    "print(set3)"
   ]
  },
  {
   "cell_type": "markdown",
   "id": "ec68fd68",
   "metadata": {},
   "source": [
    "Q54. What is intersection() in sets? Explain via code."
   ]
  },
  {
   "cell_type": "code",
   "execution_count": 85,
   "id": "2e5e00ed",
   "metadata": {},
   "outputs": [
    {
     "name": "stdout",
     "output_type": "stream",
     "text": [
      "{'iNeuron'}\n"
     ]
    }
   ],
   "source": [
    "set1={'iNeuron', 3, 'Sukriti', 'DE'}\n",
    "set2={'iNeuron', 2, 'Harsh', 'DS'}\n",
    "set3=set1.intersection(set2)\n",
    "print(set3)"
   ]
  },
  {
   "cell_type": "markdown",
   "id": "3482aab3",
   "metadata": {},
   "source": [
    "Q55. What is dictionary ibn Python?\n",
    "\n",
    "Dictionary is a data type in Python which contains values in form of key value pairs, it is ordered and mutable but the key values cannot be duplicates."
   ]
  },
  {
   "cell_type": "markdown",
   "id": "95b3d2a8",
   "metadata": {},
   "source": [
    "Q56. How is dictionary different from all other data structures.\n",
    "\n",
    "Dictionaries are orderd dataset unlike set and are changeable but they key values should be unique, we can access dictionary items via get() method."
   ]
  },
  {
   "cell_type": "markdown",
   "id": "4be966fb",
   "metadata": {},
   "source": [
    "Q57. How can we delare a dictionary in Python?"
   ]
  },
  {
   "cell_type": "code",
   "execution_count": 87,
   "id": "4ce13352",
   "metadata": {},
   "outputs": [
    {
     "name": "stdout",
     "output_type": "stream",
     "text": [
      "{'RNo': 1, 'Name': 'Akshat', 'Stream': 'Science', 'Optional': 'CS'}\n"
     ]
    }
   ],
   "source": [
    "dict1={\"RNo\":1,\"Name\":\"Akshat\",\"Stream\":\"Science\",\"Optional\":\"CS\"}\n",
    "print(dict1)"
   ]
  },
  {
   "cell_type": "markdown",
   "id": "c4085b53",
   "metadata": {},
   "source": [
    "Q58. What will the output of the following?\n",
    "\n",
    "var = {}\n",
    "print(type(var)) Output would be class:dict"
   ]
  },
  {
   "cell_type": "markdown",
   "id": "25ea95b7",
   "metadata": {},
   "source": [
    "Q59. How can we add an element in a dictionary?\n",
    "\n"
   ]
  },
  {
   "cell_type": "code",
   "execution_count": 97,
   "id": "cfc8bc2b",
   "metadata": {},
   "outputs": [
    {
     "name": "stdout",
     "output_type": "stream",
     "text": [
      "{'RNo': 1, 'Name': 'Akshat', 'Stream': 'Science', 'Optional': 'CS', 'Batch': 2022}\n"
     ]
    }
   ],
   "source": [
    "dict1={\"RNo\":1,\"Name\":\"Akshat\",\"Stream\":\"Science\",\"Optional\":\"CS\"}\n",
    "dict1.update({\"Batch\":2022})\n",
    "print(dict1)"
   ]
  },
  {
   "cell_type": "markdown",
   "id": "f91a7248",
   "metadata": {},
   "source": [
    "Q60. Create a dictionary and access all the values in that dictionary."
   ]
  },
  {
   "cell_type": "code",
   "execution_count": 109,
   "id": "0ae2f792",
   "metadata": {},
   "outputs": [
    {
     "name": "stdout",
     "output_type": "stream",
     "text": [
      "dict_values([1, 'Akshat', 'Science', 'CS'])\n"
     ]
    }
   ],
   "source": [
    "dict1={\"RNo\":1,\"Name\":\"Akshat\",\"Stream\":\"Science\",\"Optional\":\"CS\"}\n",
    "print(dict1.values())\n"
   ]
  },
  {
   "cell_type": "markdown",
   "id": "924e4f63",
   "metadata": {},
   "source": [
    "Q61. Create a nested dictionary and access all the element in the inner dictionary."
   ]
  },
  {
   "cell_type": "code",
   "execution_count": 114,
   "id": "f2886bb4",
   "metadata": {},
   "outputs": [
    {
     "name": "stdout",
     "output_type": "stream",
     "text": [
      "CS\n",
      "2022\n"
     ]
    }
   ],
   "source": [
    "dict1={\"RNo\":1,\"Name\":\"Akshat\",\"Stream\":\"Science\",\"Additional\":{\"Optional\":\"CS\",\"Batch\":2022}}\n",
    "print(dict1['Additional'][\"Optional\"])\n",
    "print(dict1['Additional'][\"Batch\"])"
   ]
  },
  {
   "cell_type": "markdown",
   "id": "bf700cc7",
   "metadata": {},
   "source": [
    "Q62. What is the use of get() function?\n",
    "\n",
    "This is used to get value of a specific key in a dictionary."
   ]
  },
  {
   "cell_type": "code",
   "execution_count": 116,
   "id": "de45b2b6",
   "metadata": {},
   "outputs": [
    {
     "name": "stdout",
     "output_type": "stream",
     "text": [
      "{'Optional': 'CS', 'Batch': 2022}\n"
     ]
    }
   ],
   "source": [
    "dict1={\"RNo\":1,\"Name\":\"Akshat\",\"Stream\":\"Science\",\"Additional\":{\"Optional\":\"CS\",\"Batch\":2022}}\n",
    "out=dict1.get(\"Additional\")\n",
    "print(out)"
   ]
  },
  {
   "cell_type": "markdown",
   "id": "209abe8d",
   "metadata": {},
   "source": [
    "Q63. What is the use of items() function?\n",
    "\n",
    "Prints all the items including keys and value sin dictionary"
   ]
  },
  {
   "cell_type": "code",
   "execution_count": 117,
   "id": "701ccd9f",
   "metadata": {},
   "outputs": [
    {
     "name": "stdout",
     "output_type": "stream",
     "text": [
      "dict_items([('RNo', 1), ('Name', 'Akshat'), ('Stream', 'Science'), ('Additional', {'Optional': 'CS', 'Batch': 2022})])\n"
     ]
    }
   ],
   "source": [
    "dict1={\"RNo\":1,\"Name\":\"Akshat\",\"Stream\":\"Science\",\"Additional\":{\"Optional\":\"CS\",\"Batch\":2022}}\n",
    "print(dict1.items())"
   ]
  },
  {
   "cell_type": "markdown",
   "id": "5a4e3de9",
   "metadata": {},
   "source": [
    "Q64. What is the use of pop() function?"
   ]
  },
  {
   "cell_type": "code",
   "execution_count": 119,
   "id": "cd5591ae",
   "metadata": {},
   "outputs": [
    {
     "name": "stdout",
     "output_type": "stream",
     "text": [
      "{'RNo': 1, 'Name': 'Akshat', 'Additional': {'Optional': 'CS', 'Batch': 2022}}\n"
     ]
    }
   ],
   "source": [
    "dict1={\"RNo\":1,\"Name\":\"Akshat\",\"Stream\":\"Science\",\"Additional\":{\"Optional\":\"CS\",\"Batch\":2022}}\n",
    "dict1.pop(\"Stream\")\n",
    "print(dict1)"
   ]
  },
  {
   "cell_type": "markdown",
   "id": "90a56e97",
   "metadata": {},
   "source": [
    "Q65. What is the use of popitems() function?\n",
    "\n",
    "It removes the last key value pair from dictionary"
   ]
  },
  {
   "cell_type": "code",
   "execution_count": 120,
   "id": "a6c5326e",
   "metadata": {},
   "outputs": [
    {
     "name": "stdout",
     "output_type": "stream",
     "text": [
      "{'RNo': 1, 'Name': 'Akshat', 'Stream': 'Science'}\n"
     ]
    }
   ],
   "source": [
    "dict1={\"RNo\":1,\"Name\":\"Akshat\",\"Stream\":\"Science\",\"Additional\":{\"Optional\":\"CS\",\"Batch\":2022}}\n",
    "dict1.popitem()\n",
    "print(dict1)"
   ]
  },
  {
   "cell_type": "markdown",
   "id": "1ccc894f",
   "metadata": {},
   "source": [
    "Q66. What is the use of keys() function?\n",
    "\n",
    "This is used to access keys of a dictionary."
   ]
  },
  {
   "cell_type": "code",
   "execution_count": 121,
   "id": "77bb922a",
   "metadata": {},
   "outputs": [
    {
     "name": "stdout",
     "output_type": "stream",
     "text": [
      "dict_keys(['RNo', 'Name', 'Stream', 'Additional'])\n"
     ]
    }
   ],
   "source": [
    "dict1={\"RNo\":1,\"Name\":\"Akshat\",\"Stream\":\"Science\",\"Additional\":{\"Optional\":\"CS\",\"Batch\":2022}}\n",
    "print(dict1.keys())"
   ]
  },
  {
   "cell_type": "markdown",
   "id": "5c7b1e42",
   "metadata": {},
   "source": [
    "Q67. What is the use of values() function?\n",
    "\n",
    "This is used to access values of a dictionary."
   ]
  },
  {
   "cell_type": "code",
   "execution_count": 122,
   "id": "9d7eb6bb",
   "metadata": {},
   "outputs": [
    {
     "name": "stdout",
     "output_type": "stream",
     "text": [
      "dict_values([1, 'Akshat', 'Science', {'Optional': 'CS', 'Batch': 2022}])\n"
     ]
    }
   ],
   "source": [
    "dict1={\"RNo\":1,\"Name\":\"Akshat\",\"Stream\":\"Science\",\"Additional\":{\"Optional\":\"CS\",\"Batch\":2022}}\n",
    "print(dict1.values())"
   ]
  },
  {
   "cell_type": "markdown",
   "id": "50c2d4b3",
   "metadata": {},
   "source": [
    "Q68. What are loops in Python?\n",
    "\n",
    "Loops in Python or any other language are used ti iterate  over a same condition multiple times, let's say if we need number from 1 to 10 to be printed so I could either write print statement multiple times or I could simply make use of a for or while loop and iterate it from 1 to 10 and print the numbers. In real world problems we have millions of scenarios where we need to iterate over conditions hence writing similar statements for each use case is not a feasible solution and this is where loops helps us."
   ]
  },
  {
   "cell_type": "markdown",
   "id": "4690888e",
   "metadata": {},
   "source": [
    "Q69. How many type of loop are there in Python?\n",
    "\n",
    "The widely used loop types in Python or any other language are for and while."
   ]
  },
  {
   "cell_type": "markdown",
   "id": "b16d0b8b",
   "metadata": {},
   "source": [
    "Q70. What is the difference between for and while loops?\n",
    "\n",
    "For loop: This loop is used when we know the number of iterations before hand like printing nos from 1 to 100, iterating over a list, tuple or dictionary.\n",
    "\n",
    "While loop: This is used when we do not kknow the number of iterations before hand, we can say while teh condition is true we want loop to be executed, we don't actually know when the condition would be true and when not."
   ]
  },
  {
   "cell_type": "code",
   "execution_count": 5,
   "id": "62a913bd",
   "metadata": {},
   "outputs": [
    {
     "name": "stdout",
     "output_type": "stream",
     "text": [
      "2\n",
      "Sukriti\n",
      "AE\n",
      "Implementation\n"
     ]
    }
   ],
   "source": [
    "lst=[2,\"Sukriti\",\"AE\",\"Implementation\"]\n",
    "for i in lst:\n",
    "    print(i)"
   ]
  },
  {
   "cell_type": "code",
   "execution_count": 8,
   "id": "99f05993",
   "metadata": {},
   "outputs": [
    {
     "name": "stdout",
     "output_type": "stream",
     "text": [
      "5\n",
      "25\n",
      "16\n",
      "9\n",
      "4\n",
      "1\n",
      "0\n"
     ]
    }
   ],
   "source": [
    "n=int(input())\n",
    "while(n>0):\n",
    "    \n",
    "    print(n*n)\n",
    "    n=n-1\n",
    "print(n)   #Printing squares of an inputted number till 0"
   ]
  },
  {
   "cell_type": "markdown",
   "id": "9880d7f8",
   "metadata": {},
   "source": [
    "Q71. What is the use of continue statement?\n",
    "\n",
    "In a loop we would often want some particular condition to be skipped,let's say if I am printing even numbers from 0 to n, but I don't want 2 to be included as it is a prime number,here I can make use of continue statement and whenver loop will ierate over this condition the consecutive statements of this loop would be skipped and program will ove to next condition, foor ex:"
   ]
  },
  {
   "cell_type": "code",
   "execution_count": 26,
   "id": "db5f7e81",
   "metadata": {},
   "outputs": [
    {
     "name": "stdout",
     "output_type": "stream",
     "text": [
      "10\n",
      "2\n",
      "4\n",
      "6\n",
      "8\n"
     ]
    }
   ],
   "source": [
    "n=int(input())\n",
    "\n",
    "for i in range(1,(n-1)):\n",
    "    if(i%2!=0):\n",
    "        continue\n",
    "    if(i==0):\n",
    "        break\n",
    "    else:\n",
    "        print(i)\n",
    "    \n",
    "     #The odd numvers were skipped"
   ]
  },
  {
   "cell_type": "markdown",
   "id": "cdb478e1",
   "metadata": {},
   "source": [
    "Q72. What is the use of break statement?\n",
    "\n",
    "If we want to terminate a loop at some condition, we can make use of break statement."
   ]
  },
  {
   "cell_type": "code",
   "execution_count": 28,
   "id": "771a3940",
   "metadata": {},
   "outputs": [
    {
     "name": "stdout",
     "output_type": "stream",
     "text": [
      "20\n",
      "1\n",
      "2\n",
      "3\n",
      "4\n",
      "5\n",
      "6\n",
      "7\n",
      "8\n",
      "9\n",
      "10\n",
      "11\n",
      "12\n",
      "13\n",
      "14\n"
     ]
    }
   ],
   "source": [
    "n=int(input())\n",
    "\n",
    "for i in range(1,(n-1)):\n",
    "    \n",
    "    if(i==15):\n",
    "        break\n",
    "    else:\n",
    "        print(i)\n",
    "    \n",
    "     #The numbers after 14 were not printed as the loop reached 15 it got terminated"
   ]
  },
  {
   "cell_type": "markdown",
   "id": "d290cb79",
   "metadata": {},
   "source": [
    "Q73. What is the use of pass statement?\n",
    "\n",
    "Inside for loops we always need to write some condition, but if we want them to be empty for some reason we can use pass statement."
   ]
  },
  {
   "cell_type": "markdown",
   "id": "d3c22040",
   "metadata": {},
   "source": [
    "Q74. What is the use of range() function?\n",
    "\n",
    "Range in Python by default iterates from the intial conditiont of inal condition and we need not give the increment statement."
   ]
  },
  {
   "cell_type": "code",
   "execution_count": 29,
   "id": "636e1fc1",
   "metadata": {},
   "outputs": [
    {
     "name": "stdout",
     "output_type": "stream",
     "text": [
      "2\n",
      "Sukriti\n",
      "AE\n"
     ]
    }
   ],
   "source": [
    "lst=[2,\"Sukriti\",\"AE\",\"Implementation\"]\n",
    "for i in range(0,len(lst)-1):\n",
    "    print(lst[i])"
   ]
  },
  {
   "cell_type": "markdown",
   "id": "d5647eb3",
   "metadata": {},
   "source": [
    "Q75. How can you loop over a dictionary?"
   ]
  },
  {
   "cell_type": "code",
   "execution_count": 32,
   "id": "4080ef24",
   "metadata": {},
   "outputs": [
    {
     "name": "stdout",
     "output_type": "stream",
     "text": [
      "('RNo', 1)\n",
      "('Name', 'Akshat')\n",
      "('Stream', 'Science')\n",
      "('Additional', {'Optional': 'CS', 'Batch': 2022})\n"
     ]
    }
   ],
   "source": [
    "dict1={\"RNo\":1,\"Name\":\"Akshat\",\"Stream\":\"Science\",\"Additional\":{\"Optional\":\"CS\",\"Batch\":2022}}\n",
    "for i in dict1.items():\n",
    "    print(i)"
   ]
  },
  {
   "cell_type": "markdown",
   "id": "8b32b514",
   "metadata": {},
   "source": [
    "Q76. Write a Python program to find the factorial of a given number."
   ]
  },
  {
   "cell_type": "code",
   "execution_count": 36,
   "id": "6180f336",
   "metadata": {},
   "outputs": [
    {
     "name": "stdout",
     "output_type": "stream",
     "text": [
      "5\n",
      "120\n"
     ]
    }
   ],
   "source": [
    "n=int(input())\n",
    "f=1\n",
    "if(n==0 or n==1):\n",
    "    print(1)\n",
    "for i in range(1,(n+1)):\n",
    "    f=f*i\n",
    "print(f)"
   ]
  },
  {
   "cell_type": "markdown",
   "id": "26f2e2ec",
   "metadata": {},
   "source": [
    "Q77. Write a Python program to calculate the simple interest. Formula to calculate simple interest is SI = (PRT)/100"
   ]
  },
  {
   "cell_type": "code",
   "execution_count": 37,
   "id": "2c295ef1",
   "metadata": {},
   "outputs": [
    {
     "name": "stdout",
     "output_type": "stream",
     "text": [
      "20000\n",
      "5.5\n",
      "2.5\n",
      "Simple Interest is  2750.0\n"
     ]
    }
   ],
   "source": [
    "p=input()\n",
    "r=input()\n",
    "t=input()\n",
    "si=(float(p)*float(r)*float(t))/100\n",
    "print(\"Simple Interest is \",si)"
   ]
  },
  {
   "cell_type": "markdown",
   "id": "0a754481",
   "metadata": {},
   "source": [
    "Q78. Write a Python program to calculate the compound interest. Formula of compound interest is A = P(1+ R/100)^t."
   ]
  },
  {
   "cell_type": "code",
   "execution_count": 41,
   "id": "f66f82e7",
   "metadata": {},
   "outputs": [
    {
     "name": "stdout",
     "output_type": "stream",
     "text": [
      "20000\n",
      "4.5\n",
      "2\n",
      "Amount is  21840.499999999996\n"
     ]
    }
   ],
   "source": [
    "p=input()\n",
    "r=input()\n",
    "t=input()\n",
    "a=float(p)*(1+(float(r)/100))**float(t)\n",
    "print(\"Amount is \",a)"
   ]
  },
  {
   "cell_type": "markdown",
   "id": "06b7498b",
   "metadata": {},
   "source": [
    "Q79. Write a Python program to check if a number is prime or not."
   ]
  },
  {
   "cell_type": "code",
   "execution_count": 42,
   "id": "6fe977e1",
   "metadata": {},
   "outputs": [
    {
     "name": "stdout",
     "output_type": "stream",
     "text": [
      "5\n",
      "Prime\n"
     ]
    }
   ],
   "source": [
    "n=int(input())\n",
    "c=0\n",
    "for i in range(2,n):\n",
    "    if(n%i==0):\n",
    "        c=c+1\n",
    "if(c>0):\n",
    "    print(\"Not prime\")\n",
    "else:\n",
    "    print(\"Prime\")"
   ]
  },
  {
   "cell_type": "code",
   "execution_count": 43,
   "id": "4056f9a0",
   "metadata": {},
   "outputs": [
    {
     "name": "stdout",
     "output_type": "stream",
     "text": [
      "15\n",
      "Not prime\n"
     ]
    }
   ],
   "source": [
    "n=int(input())\n",
    "c=0\n",
    "for i in range(2,n):\n",
    "    if(n%i==0):\n",
    "        c=c+1\n",
    "if(c>0):\n",
    "    print(\"Not prime\")\n",
    "else:\n",
    "    print(\"Prime\")"
   ]
  },
  {
   "cell_type": "code",
   "execution_count": 7,
   "id": "ea47e7f9",
   "metadata": {},
   "outputs": [
    {
     "name": "stdout",
     "output_type": "stream",
     "text": [
      "153\n",
      "Armstrong\n"
     ]
    }
   ],
   "source": [
    "n=int(input())\n",
    "n1=n\n",
    "s=0\n",
    "while(n>0):\n",
    "    d=n%10\n",
    "    s=s+(d*d*d)\n",
    "    n=n//10\n",
    "  \n",
    "if(s==n1):\n",
    "    print(\"Armstrong\")\n",
    "\n",
    "else:\n",
    "    print(\"Non Armstrong\")"
   ]
  },
  {
   "cell_type": "code",
   "execution_count": 16,
   "id": "78b06f3a",
   "metadata": {},
   "outputs": [
    {
     "name": "stdout",
     "output_type": "stream",
     "text": [
      "6\n",
      "0\n",
      "1\n",
      "1\n",
      "2\n",
      "3\n",
      "5\n"
     ]
    }
   ],
   "source": [
    "\n",
    "n=int(input())\n",
    "\n",
    "n1, n2 = 0, 1\n",
    "count = 0\n",
    "\n",
    "\n",
    "if n <= 0:\n",
    "   print(\"Please enter a positive no\")\n",
    "\n",
    "elif n == 1:\n",
    "   \n",
    "   print(n1)\n",
    "\n",
    "else:\n",
    "   \n",
    "   while count < n:\n",
    "       print(n1)\n",
    "       nth = n1 + n2\n",
    "       \n",
    "       n1 = n2\n",
    "       n2 = nth\n",
    "       count += 1"
   ]
  },
  {
   "cell_type": "markdown",
   "id": "c4a44efd",
   "metadata": {},
   "source": [
    "Q82. Write a Python program to interchange the first and last element in a list."
   ]
  },
  {
   "cell_type": "code",
   "execution_count": 24,
   "id": "b2b614d7",
   "metadata": {},
   "outputs": [
    {
     "name": "stdout",
     "output_type": "stream",
     "text": [
      "[50, 75, 150, 180, 145, 525, 12]\n"
     ]
    }
   ],
   "source": [
    "numbers = [12, 75, 150, 180, 145, 525, 50]\n",
    "l=len(numbers)-1\n",
    "a=numbers[0]\n",
    "b=numbers[l]\n",
    "a,b=b,a\n",
    "numbers[0]=a\n",
    "numbers[l]=b\n",
    "print(numbers)"
   ]
  },
  {
   "cell_type": "markdown",
   "id": "1ce01a26",
   "metadata": {},
   "source": [
    "Q83. Write a Python program to swap two elements in a list."
   ]
  },
  {
   "cell_type": "code",
   "execution_count": 25,
   "id": "fbbbb697",
   "metadata": {},
   "outputs": [
    {
     "name": "stdout",
     "output_type": "stream",
     "text": [
      "[50, 75, 150, 180, 145, 525, 12]\n"
     ]
    }
   ],
   "source": [
    "numbers = [12, 75, 150, 180, 145, 525, 50]\n",
    "l=len(numbers)-1\n",
    "a=numbers[0]\n",
    "b=numbers[l]\n",
    "a,b=b,a\n",
    "numbers[0]=a\n",
    "numbers[l]=b\n",
    "print(numbers)"
   ]
  },
  {
   "cell_type": "markdown",
   "id": "dbabc356",
   "metadata": {},
   "source": [
    "Q84. Write a Python program to find N largest element from a list."
   ]
  },
  {
   "cell_type": "code",
   "execution_count": 38,
   "id": "99604a64",
   "metadata": {},
   "outputs": [
    {
     "name": "stdout",
     "output_type": "stream",
     "text": [
      "3\n",
      "150\n"
     ]
    }
   ],
   "source": [
    "n=int(input())\n",
    "n1=-n\n",
    "numbers = [12, 75, 150, 180, 145, 525, 50]\n",
    "s_numbers=sorted(numbers)\n",
    "print(s_numbers[n1])\n"
   ]
  },
  {
   "cell_type": "markdown",
   "id": "db21bf14",
   "metadata": {},
   "source": [
    "Q85. Write a Python program to find cumulative sum of a list."
   ]
  },
  {
   "cell_type": "code",
   "execution_count": 2,
   "id": "1701e4b7",
   "metadata": {},
   "outputs": [
    {
     "name": "stdout",
     "output_type": "stream",
     "text": [
      "[12, 87, 237, 417, 562, 1087, 1137]\n"
     ]
    }
   ],
   "source": [
    "numbers = [12, 75, 150, 180, 145, 525, 50]\n",
    "sum=0\n",
    "cum_lst=[]\n",
    "for i in numbers:\n",
    "    sum=sum+i\n",
    "    cum_lst.append(sum)\n",
    "print(cum_lst)"
   ]
  },
  {
   "cell_type": "markdown",
   "id": "61ad4541",
   "metadata": {},
   "source": [
    "Q86. Write a Python program to check if a string is palindrome or not."
   ]
  },
  {
   "cell_type": "code",
   "execution_count": 6,
   "id": "8abdeba3",
   "metadata": {},
   "outputs": [
    {
     "name": "stdout",
     "output_type": "stream",
     "text": [
      "mom\n",
      "Palindrome\n"
     ]
    }
   ],
   "source": [
    "str1=input()\n",
    "rev_str=str1[::-1]\n",
    "if(rev_str==str1):\n",
    "    print(\"Palindrome\")\n",
    "else:\n",
    "    print(\"Not palindrome\")"
   ]
  },
  {
   "cell_type": "code",
   "execution_count": 7,
   "id": "2816523b",
   "metadata": {},
   "outputs": [
    {
     "name": "stdout",
     "output_type": "stream",
     "text": [
      "Sukriti\n",
      "Not palindrome\n"
     ]
    }
   ],
   "source": [
    "str1=input()\n",
    "rev_str=str1[::-1]\n",
    "if(rev_str==str1):\n",
    "    print(\"Palindrome\")\n",
    "else:\n",
    "    print(\"Not palindrome\")"
   ]
  },
  {
   "cell_type": "markdown",
   "id": "69bac956",
   "metadata": {},
   "source": [
    "Q87. Write a Python program to remove i'th element from a string."
   ]
  },
  {
   "cell_type": "code",
   "execution_count": 12,
   "id": "032b1775",
   "metadata": {},
   "outputs": [
    {
     "name": "stdout",
     "output_type": "stream",
     "text": [
      "I study DE at iNeuron\n",
      "3\n",
      "I sudy DE a iNeuron\n"
     ]
    }
   ],
   "source": [
    "str1=input()\n",
    "rem=int(input())\n",
    "str2=str1.replace(str1[rem],\"\")\n",
    "print(str2)"
   ]
  },
  {
   "cell_type": "markdown",
   "id": "85ffcebc",
   "metadata": {},
   "source": [
    "Q88. Write a Python program to check if a substring is present in a given string."
   ]
  },
  {
   "cell_type": "code",
   "execution_count": 15,
   "id": "a1f125e3",
   "metadata": {},
   "outputs": [
    {
     "name": "stdout",
     "output_type": "stream",
     "text": [
      "I study at iNeuron\n",
      "iNeuron\n",
      "Yes, it is peresent\n"
     ]
    }
   ],
   "source": [
    "str1=input()\n",
    "sub_str=input()\n",
    "if(sub_str in str1):\n",
    "    print(\"Yes, it is peresent\")\n",
    "else:\n",
    "    print(\"It is not present\")"
   ]
  },
  {
   "cell_type": "code",
   "execution_count": 16,
   "id": "1d061008",
   "metadata": {},
   "outputs": [
    {
     "name": "stdout",
     "output_type": "stream",
     "text": [
      "I study at iNeuron\n",
      "need\n",
      "It is not present\n"
     ]
    }
   ],
   "source": [
    "str1=input()\n",
    "sub_str=input()\n",
    "if(sub_str in str1):\n",
    "    print(\"Yes, it is peresent\")\n",
    "else:\n",
    "    print(\"It is not present\")"
   ]
  },
  {
   "cell_type": "markdown",
   "id": "44d357cd",
   "metadata": {},
   "source": [
    "Q89. Write a Python program to find words which are greater than given length k."
   ]
  },
  {
   "cell_type": "code",
   "execution_count": 17,
   "id": "9da7d47b",
   "metadata": {},
   "outputs": [
    {
     "name": "stdout",
     "output_type": "stream",
     "text": [
      "4\n",
      "Sukriti\n",
      "would\n",
      "learn\n",
      "Engineering\n"
     ]
    }
   ],
   "source": [
    "str1=\"My name is Sukriti and I would like to learn Data Engineering\"\n",
    "l=int(input())\n",
    "lst=str1.split(\" \")\n",
    "for i in lst:\n",
    "    if(len(i)>l):\n",
    "        print(i)"
   ]
  },
  {
   "cell_type": "markdown",
   "id": "9b2685e1",
   "metadata": {},
   "source": [
    "Q90. Write a Python program to extract unquire dictionary values."
   ]
  },
  {
   "cell_type": "code",
   "execution_count": 20,
   "id": "38fa3e0d",
   "metadata": {},
   "outputs": [
    {
     "name": "stdout",
     "output_type": "stream",
     "text": [
      "{'CS', 1, 'Akshat', 'Science'}\n"
     ]
    }
   ],
   "source": [
    "dict1={\"RNo\":1,\"Name\":\"Akshat\",\"Stream\":\"Science\",\"Optional\":\"CS\",\"Optional2\":\"CS\"}\n",
    "set1=set(dict1.values())\n",
    "\n",
    "print(set1)\n",
    "\n"
   ]
  },
  {
   "cell_type": "markdown",
   "id": "f4da02ae",
   "metadata": {},
   "source": [
    "Q91. Write a Python program to merge two dictionary."
   ]
  },
  {
   "cell_type": "code",
   "execution_count": 29,
   "id": "edc5d926",
   "metadata": {},
   "outputs": [
    {
     "name": "stdout",
     "output_type": "stream",
     "text": [
      "{'RNo': 4, 'Name': 'Akshay', 'Stream': 'Commerce', 'Optional': 'PEd'}\n"
     ]
    }
   ],
   "source": [
    "dict1={\"RNo\":1,\"Name\":\"Akshat\",\"Stream\":\"Science\",\"Optional\":\"CS\"}\n",
    "dict2={\"RNo\":4,\"Name\":\"Akshay\",\"Stream\":\"Commerce\",\"Optional\":\"PEd\"}\n",
    "dict3=dict1 | dict2\n",
    "print(dict3)"
   ]
  },
  {
   "cell_type": "markdown",
   "id": "d7c52509",
   "metadata": {},
   "source": [
    "Q92. Write a Python program to convert a list of tuples into dictionary."
   ]
  },
  {
   "cell_type": "code",
   "execution_count": 31,
   "id": "e9445092",
   "metadata": {},
   "outputs": [
    {
     "name": "stdout",
     "output_type": "stream",
     "text": [
      "{'Sachin': 10, 'MSD': 7, 'Kohli': 18, 'Rohit': 45}\n"
     ]
    }
   ],
   "source": [
    "tpl= [('Sachin', 10), ('MSD', 7), ('Kohli', 18), ('Rohit', 45)]\n",
    "dict1=dict(tpl)\n",
    "print(dict1)"
   ]
  },
  {
   "cell_type": "markdown",
   "id": "c5a52e3e",
   "metadata": {},
   "source": [
    "Q93. Write a Python program to create a list of tuples from given list having number and its cube in each tuple.\n",
    "\n",
    "Input: list = [9, 5, 6]\n",
    "Output: [(9, 729), (5, 125), (6, 216)]"
   ]
  },
  {
   "cell_type": "code",
   "execution_count": 13,
   "id": "b25c8960",
   "metadata": {},
   "outputs": [
    {
     "name": "stdout",
     "output_type": "stream",
     "text": [
      "[(9, 729), (5, 125), (6, 216)]\n"
     ]
    }
   ],
   "source": [
    "lst=[9,5,6]\n",
    "out_lst=[]\n",
    "for i in lst:\n",
    "    temp_lst=[]\n",
    "    temp_lst.append(i)\n",
    "    temp_lst.append(i*i*i)\n",
    "    out_lst.append(tuple(temp_lst))\n",
    "print(out_lst)"
   ]
  },
  {
   "cell_type": "markdown",
   "id": "224bcba8",
   "metadata": {},
   "source": [
    "Q94. Write a Python program to get all combinations of 2 tuples.\n",
    "\n",
    "Input : test_tuple1 = (7, 2), test_tuple2 = (7, 8)\n",
    "Output : [(7, 7), (7, 8), (2, 7), (2, 8), (7, 7), (7, 2), (8, 7), (8, 2)]"
   ]
  },
  {
   "cell_type": "code",
   "execution_count": 17,
   "id": "8af17434",
   "metadata": {},
   "outputs": [
    {
     "name": "stdout",
     "output_type": "stream",
     "text": [
      "[(7, 7), (7, 8), (2, 7), (2, 8), (7, 7), (7, 2), (8, 7), (8, 2)]\n"
     ]
    }
   ],
   "source": [
    "tst_tpl1=(7,2)\n",
    "tst_tpl2=(7,8)\n",
    "res_lst=[(i,j) for i in tst_tpl1 for j in tst_tpl2]\n",
    "res_lst=res_lst+[(i,j) for i in tst_tpl2 for j in tst_tpl1]\n",
    "print(res_lst)"
   ]
  },
  {
   "cell_type": "markdown",
   "id": "133e2eec",
   "metadata": {},
   "source": [
    "Q95. Write a Python program to sort a list of tuples by second item.\n",
    "\n",
    "Input : [('for', 24), ('Geeks', 8), ('Geeks', 30)] \n",
    "Output : [('Geeks', 8), ('for', 24), ('Geeks', 30)]"
   ]
  },
  {
   "cell_type": "code",
   "execution_count": 27,
   "id": "5f64ae89",
   "metadata": {},
   "outputs": [
    {
     "name": "stdout",
     "output_type": "stream",
     "text": [
      "[('Geeks', 8), ('for', 24), ('Geeks', 30)]\n"
     ]
    }
   ],
   "source": [
    "lst=[('for', 24), ('Geeks', 8), ('Geeks', 30)]\n",
    "print(sorted(lst,key=lambda y:y[1]))"
   ]
  },
  {
   "cell_type": "markdown",
   "id": "09f002de",
   "metadata": {},
   "source": [
    "Q96. Write a python program to print below pattern.\n",
    "\n",
    "* \n",
    "* * \n",
    "* * * \n",
    "* * * * \n",
    "* * * * * "
   ]
  },
  {
   "cell_type": "code",
   "execution_count": 34,
   "id": "04947920",
   "metadata": {},
   "outputs": [
    {
     "name": "stdout",
     "output_type": "stream",
     "text": [
      "5\n",
      "* \n",
      "* * \n",
      "* * * \n",
      "* * * * \n",
      "* * * * * \n",
      "* * * * * * \n"
     ]
    }
   ],
   "source": [
    "l=int(input())\n",
    "for i in range(0,l+1):\n",
    "    for j in range(0,i+1):\n",
    "        print(\"*\",end=\" \")\n",
    "    print(\"\\r\")"
   ]
  },
  {
   "cell_type": "markdown",
   "id": "65474605",
   "metadata": {},
   "source": [
    "Q97. Write a python program to print below pattern.\n",
    "\n",
    "    *\n",
    "   **\n",
    "  ***\n",
    " ****\n",
    "*****"
   ]
  },
  {
   "cell_type": "markdown",
   "id": "0af98384",
   "metadata": {},
   "source": [
    "Q99. Write a python program to print below pattern.\n",
    "\n",
    "1 \n",
    "1 2 \n",
    "1 2 3 \n",
    "1 2 3 4 \n",
    "1 2 3 4 5"
   ]
  },
  {
   "cell_type": "code",
   "execution_count": 41,
   "id": "c1e5058b",
   "metadata": {},
   "outputs": [
    {
     "name": "stdout",
     "output_type": "stream",
     "text": [
      "5\n",
      "1 \n",
      "2 2 \n",
      "3 3 3 \n",
      "4 4 4 4 \n",
      "5 5 5 5 5 \n"
     ]
    }
   ],
   "source": [
    "l=int(input())\n",
    "for i in range(0,l):\n",
    "    for j in range(0,i+1):\n",
    "        print(i+1,end=\" \")\n",
    "    print(\"\\r\")"
   ]
  },
  {
   "cell_type": "markdown",
   "id": "77bd4ed8",
   "metadata": {},
   "source": [
    "Q100. Write a python program to print below pattern.\n",
    "\n",
    "A \n",
    "B B \n",
    "C C C \n",
    "D D D D \n",
    "E E E E E "
   ]
  },
  {
   "cell_type": "code",
   "execution_count": 46,
   "id": "81f36264",
   "metadata": {},
   "outputs": [
    {
     "name": "stdout",
     "output_type": "stream",
     "text": [
      "5\n",
      "A \n",
      "B B \n",
      "C C C \n",
      "D D D D \n",
      "E E E E E \n"
     ]
    }
   ],
   "source": [
    "l=int(input())\n",
    "for i in range(0,l):\n",
    "    for j in range(0,i+1):\n",
    "        print(chr(65+i),end=\" \")\n",
    "    print(\"\\r\")"
   ]
  },
  {
   "cell_type": "code",
   "execution_count": null,
   "id": "b621cd1d",
   "metadata": {},
   "outputs": [],
   "source": []
  }
 ],
 "metadata": {
  "kernelspec": {
   "display_name": "Python 3 (ipykernel)",
   "language": "python",
   "name": "python3"
  },
  "language_info": {
   "codemirror_mode": {
    "name": "ipython",
    "version": 3
   },
   "file_extension": ".py",
   "mimetype": "text/x-python",
   "name": "python",
   "nbconvert_exporter": "python",
   "pygments_lexer": "ipython3",
   "version": "3.9.13"
  }
 },
 "nbformat": 4,
 "nbformat_minor": 5
}
